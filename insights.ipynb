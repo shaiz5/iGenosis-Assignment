{
 "cells": [
  {
   "cell_type": "code",
   "execution_count": 152,
   "metadata": {},
   "outputs": [],
   "source": [
    "import pandas as pd\n",
    "from collections import Counter\n",
    "# Load the datasets\n",
    "transaction_data = pd.read_csv(\"transaction_data.csv\")\n",
    "purchase_data = pd.read_csv(\"purchase_behaviour.csv\")\n",
    "\n",
    "# Identify the top 3 most profitable products\n",
    "top_products = (\n",
    "    transaction_data.groupby([\"PROD_NBR\", \"PROD_NAME\"])[\"TOT_SALES\"]\n",
    "    .sum()\n",
    "    .reset_index()\n",
    "    .sort_values(by=\"TOT_SALES\", ascending=False)\n",
    "    # .head(3)\n",
    ")\n",
    "\n",
    "# Merge transaction data with customer data\n",
    "merged_data = transaction_data.merge(purchase_data, on=\"LYLTY_CARD_NBR\")\n",
    "\n",
    "# Identify the most loyal customers based on total spending\n",
    "loyal_customers = (\n",
    "    merged_data.groupby([\"LIFESTAGE\", \"PREMIUM_CUSTOMER\"])[\"TOT_SALES\"]\n",
    "    .sum()\n",
    "    .reset_index()\n",
    "    .sort_values(by=\"TOT_SALES\", ascending=False)\n",
    "    # .head(3)  # The top segment\n",
    ")\n",
    "\n",
    "# Identify customer segments with highest purchase frequency\n",
    "purchase_frequency = (\n",
    "    merged_data.groupby([\"LIFESTAGE\", \"PREMIUM_CUSTOMER\"])['TXN_ID']\n",
    "    .count()\n",
    "    .reset_index()\n",
    "    .sort_values(by=\"TXN_ID\", ascending=False)\n",
    ")\n",
    "\n",
    "# Analyze average basket size per customer segment\n",
    "average_basket_size = (\n",
    "    merged_data.groupby([\"LIFESTAGE\", \"PREMIUM_CUSTOMER\"])['TOT_SALES']\n",
    "    .mean()\n",
    "    .reset_index()\n",
    "    .sort_values(by=\"TOT_SALES\", ascending=False)\n",
    ")\n",
    "\n",
    "# Identify best-selling products per customer segment\n",
    "top_products_by_segment = (\n",
    "    merged_data.groupby([\"LIFESTAGE\", \"PREMIUM_CUSTOMER\", \"PROD_NAME\"])[\"TOT_SALES\"]\n",
    "    .sum()\n",
    "    .reset_index()\n",
    "    .sort_values(by=\"TOT_SALES\", ascending=False)\n",
    ")\n",
    "\n",
    "# Identify revenue by store\n",
    "store_revenue = (\n",
    "    transaction_data.groupby(\"STORE_NBR\")[\"TOT_SALES\"]\n",
    "    .sum()\n",
    "    .reset_index()\n",
    "    .sort_values(by=\"TOT_SALES\", ascending=False)\n",
    ")\n",
    "s={}\n",
    "store_freq_dict=(\n",
    "    dict(Counter(transaction_data[\"STORE_NBR\"].to_list()))\n",
    ")\n",
    "strfrq=pd.DataFrame(store_freq_dict.items(),columns=[\"STR_NUMBR\",\"VISITS\"])\n",
    "store_freq=(\n",
    "    strfrq.sort_values(by=\"VISITS\",ascending=False)\n",
    ")\n",
    "cust_most_visited=(\n",
    "    store_freq[\"STR_NUMBR\"].head(3)\n",
    ")"
   ]
  },
  {
   "cell_type": "markdown",
   "metadata": {},
   "source": [
    "First Insight: Top 3 Profitable Products"
   ]
  },
  {
   "cell_type": "code",
   "execution_count": 153,
   "metadata": {},
   "outputs": [
    {
     "name": "stdout",
     "output_type": "stream",
     "text": [
      "Top 3 Most Profitable Products:\n",
      "     PROD_NBR                                 PROD_NAME  TOT_SALES\n",
      "3          4          Dorito Corn Chp     Supreme 380g    40352.0\n",
      "13        14    Smiths Crnkle Chip  Orgnl Big Bag 380g    36367.6\n",
      "15        16  Smiths Crinkle Chips Salt & Vinegar 330g    34804.2\n"
     ]
    }
   ],
   "source": [
    "print(\"Top 3 Most Profitable Products:\\n\", top_products.head(3))\n",
    "top_products.to_csv(\"profitable_products.csv\")"
   ]
  },
  {
   "cell_type": "markdown",
   "metadata": {},
   "source": [
    "Second Insight: Most Loyal Customer Segment and Customer Liftstyle by total sales"
   ]
  },
  {
   "cell_type": "code",
   "execution_count": 121,
   "metadata": {},
   "outputs": [
    {
     "name": "stdout",
     "output_type": "stream",
     "text": [
      "\n",
      "Most Loyal Customer Segment by sales:\n",
      "                 LIFESTAGE PREMIUM_CUSTOMER  TOT_SALES\n",
      "6          OLDER FAMILIES           Budget  168363.25\n",
      "19  YOUNG SINGLES/COUPLES       Mainstream  157621.60\n",
      "13               RETIREES       Mainstream  155677.05\n"
     ]
    }
   ],
   "source": [
    "print(\"\\nMost Loyal Customer Segment by sales:\\n\", loyal_customers.head(3))\n",
    "loyal_customers.to_csv(\"loyal_customers_sales.csv\")"
   ]
  },
  {
   "cell_type": "markdown",
   "metadata": {},
   "source": [
    "Third Insight: Top Products in Customer Segments"
   ]
  },
  {
   "cell_type": "code",
   "execution_count": 48,
   "metadata": {},
   "outputs": [
    {
     "name": "stdout",
     "output_type": "stream",
     "text": [
      "\n",
      "Top Products by Customer Segment:\n",
      "                   LIFESTAGE PREMIUM_CUSTOMER  \\\n",
      "2177  YOUNG SINGLES/COUPLES       Mainstream   \n",
      "2252  YOUNG SINGLES/COUPLES       Mainstream   \n",
      "2199  YOUNG SINGLES/COUPLES       Mainstream   \n",
      "2243  YOUNG SINGLES/COUPLES       Mainstream   \n",
      "761          OLDER FAMILIES           Budget   \n",
      "2178  YOUNG SINGLES/COUPLES       Mainstream   \n",
      "695          OLDER FAMILIES           Budget   \n",
      "690          OLDER FAMILIES           Budget   \n",
      "2172  YOUNG SINGLES/COUPLES       Mainstream   \n",
      "2205  YOUNG SINGLES/COUPLES       Mainstream   \n",
      "\n",
      "                                     PROD_NAME  TOT_SALES  \n",
      "2177          Dorito Corn Chp     Supreme 380g    3659.50  \n",
      "2252    Smiths Crnkle Chip  Orgnl Big Bag 380g    3516.40  \n",
      "2199    Kettle Mozzarella   Basil & Pesto 175g    3380.40  \n",
      "2243  Smiths Crinkle Chips Salt & Vinegar 330g    3317.40  \n",
      "761   Smiths Crinkle Chips Salt & Vinegar 330g    3186.30  \n",
      "2178          Doritos Cheese      Supreme 330g    3186.30  \n",
      "695           Dorito Corn Chp     Supreme 380g    3123.25  \n",
      "690                       Cheezels Cheese 330g    3095.10  \n",
      "2172                      Cheezels Cheese 330g    3089.40  \n",
      "2205   Kettle Sweet Chilli And Sour Cream 175g    3088.80  \n"
     ]
    }
   ],
   "source": [
    "top_products_by_segment.to_csv(\"top_prod_segment.csv\")\n",
    "print(\"\\nTop Products by Customer Segment:\\n\", top_products_by_segment.head(10))"
   ]
  },
  {
   "cell_type": "markdown",
   "metadata": {},
   "source": [
    "Forth Insight: Customer segments and lifestyles that spend more per transaction, i.e higher Average Basket Size"
   ]
  },
  {
   "cell_type": "code",
   "execution_count": 49,
   "metadata": {},
   "outputs": [
    {
     "name": "stdout",
     "output_type": "stream",
     "text": [
      "\n",
      "Average Basket Size per Customer Segment:\n",
      "                  LIFESTAGE PREMIUM_CUSTOMER  TOT_SALES\n",
      "1   MIDAGE SINGLES/COUPLES       Mainstream   7.647284\n",
      "19   YOUNG SINGLES/COUPLES       Mainstream   7.558339\n",
      "14                RETIREES          Premium   7.456174\n",
      "11   OLDER SINGLES/COUPLES          Premium   7.449766\n",
      "12                RETIREES           Budget   7.443445\n",
      "9    OLDER SINGLES/COUPLES           Budget   7.430315\n",
      "8           OLDER FAMILIES          Premium   7.322945\n",
      "4             NEW FAMILIES       Mainstream   7.317806\n",
      "3             NEW FAMILIES           Budget   7.297321\n",
      "15          YOUNG FAMILIES           Budget   7.287201\n"
     ]
    }
   ],
   "source": [
    "average_basket_size.to_csv(\"avg_basket.csv\")\n",
    "print(\"\\nAverage Basket Size per Customer Segment:\\n\", average_basket_size.head(10))"
   ]
  },
  {
   "cell_type": "markdown",
   "metadata": {},
   "source": [
    "Fifth Insight: Total Sales per Store"
   ]
  },
  {
   "cell_type": "code",
   "execution_count": 50,
   "metadata": {},
   "outputs": [
    {
     "name": "stdout",
     "output_type": "stream",
     "text": [
      "\n",
      "Revenue by Store:\n",
      "      STORE_NBR  TOT_SALES\n",
      "225        226   18905.45\n",
      "87          88   16333.25\n",
      "164        165   15973.75\n",
      "39          40   15559.50\n",
      "236        237   15539.50\n",
      "57          58   15251.45\n",
      "198        199   14797.00\n",
      "3            4   14647.65\n",
      "202        203   14551.60\n",
      "25          26   14469.30\n"
     ]
    }
   ],
   "source": [
    "store_revenue.to_csv(\"revenue_per_store.csv\")\n",
    "print(\"\\nRevenue by Store:\\n\", store_revenue.head(10))"
   ]
  },
  {
   "cell_type": "markdown",
   "metadata": {},
   "source": [
    "Sixth Insight: Top most visited Stores"
   ]
  },
  {
   "cell_type": "code",
   "execution_count": 78,
   "metadata": {},
   "outputs": [
    {
     "name": "stdout",
     "output_type": "stream",
     "text": [
      "\n",
      "Top 3 most visited Stores:\n",
      "      STR_NUMBR  VISITS\n",
      "102        226    2022\n",
      "39          88    1873\n",
      "166         93    1832\n"
     ]
    }
   ],
   "source": [
    "print(\"\\nTop 3 most visited Stores:\\n\",store_freq.head(3))"
   ]
  },
  {
   "cell_type": "markdown",
   "metadata": {},
   "source": [
    "Seventh Insight: Most Frequent Customer Segments and Lifestyles in the top 3 most visited stores"
   ]
  },
  {
   "cell_type": "code",
   "execution_count": 132,
   "metadata": {},
   "outputs": [
    {
     "name": "stdout",
     "output_type": "stream",
     "text": [
      "Most Frequent Customer Lifestyle at the highest visited store:\n",
      "OLDER SINGLES/COUPLES\n",
      "Most Frequent Customer Segment at the highest visited store:\n",
      "Mainstream\n",
      "Most Frequent Customer Lifestyle at the second visited store:\n",
      "OLDER SINGLES/COUPLES\n",
      "Most Frequent Customer Segment at the second highest visited store:\n",
      "Mainstream\n",
      "Most Frequent Customer Lifestyle at the third visited store:\n",
      "OLDER SINGLES/COUPLES\n",
      "Most Frequent Customer Segment at the Third highest visited store:\n",
      "Budget\n"
     ]
    }
   ],
   "source": [
    "mvstr=[]\n",
    "store1={}\n",
    "store2={}\n",
    "store3={}\n",
    "storepc1={}\n",
    "storepc2={}\n",
    "storepc3={}\n",
    "mvstr=cust_most_visited.to_list()\n",
    "for i in mvstr:\n",
    "    # print(type(i))\n",
    "    if i==226:\n",
    "        store1=dict(Counter(merged_data.loc[merged_data[\"STORE_NBR\"]==i,\"LIFESTAGE\",]))\n",
    "        storepc1=dict(Counter(merged_data.loc[merged_data[\"STORE_NBR\"]==i,\"PREMIUM_CUSTOMER\",]))\n",
    "    elif i==88:\n",
    "        store2=dict(Counter(merged_data.loc[merged_data[\"STORE_NBR\"]==i,\"LIFESTAGE\"]))\n",
    "        storepc2=dict(Counter(merged_data.loc[merged_data[\"STORE_NBR\"]==i,\"PREMIUM_CUSTOMER\",]))\n",
    "    else:\n",
    "        store3=dict(Counter(merged_data.loc[merged_data[\"STORE_NBR\"]==i,\"LIFESTAGE\"]))\n",
    "        storepc3=dict(Counter(merged_data.loc[merged_data[\"STORE_NBR\"]==i,\"PREMIUM_CUSTOMER\",]))\n",
    "# print(store1)\n",
    "print(\"Most Frequent Customer Lifestyle at the highest visited store:\\n\"+str(max(store1,key=store1.get)))\n",
    "print(\"Most Frequent Customer Segment at the highest visited store:\\n\"+str(max(storepc1,key=storepc1.get)))\n",
    "print(\"Most Frequent Customer Lifestyle at the second visited store:\\n\"+str(max(store2,key=store1.get)))\n",
    "print(\"Most Frequent Customer Segment at the second highest visited store:\\n\"+str(max(storepc2,key=storepc2.get)))\n",
    "print(\"Most Frequent Customer Lifestyle at the third visited store:\\n\"+str(max(store3,key=store1.get)))\n",
    "print(\"Most Frequent Customer Segment at the Third highest visited store:\\n\"+str(max(storepc3,key=storepc3.get)))"
   ]
  },
  {
   "cell_type": "markdown",
   "metadata": {},
   "source": [
    "Eigth Insight: Top 5 Customer Segment and Lifestyle in terms of product quantity"
   ]
  },
  {
   "cell_type": "code",
   "execution_count": 151,
   "metadata": {},
   "outputs": [
    {
     "name": "stdout",
     "output_type": "stream",
     "text": [
      "Top 5 Customer Segment and Lifestyle in terms of product quantity purchased:\n",
      "                 LIFESTAGE PREMIUM_CUSTOMER  PROD_QTY\n",
      "6          OLDER FAMILIES           Budget     23160\n",
      "13               RETIREES       Mainstream     21466\n",
      "19  YOUNG SINGLES/COUPLES       Mainstream     20854\n",
      "15         YOUNG FAMILIES           Budget     19122\n",
      "9   OLDER SINGLES/COUPLES           Budget     18407\n"
     ]
    }
   ],
   "source": [
    "quant=(merged_data.groupby([\"LIFESTAGE\",\"PREMIUM_CUSTOMER\"])[\"PROD_QTY\"]).count().reset_index().sort_values(by=\"PROD_QTY\", ascending=False)\n",
    "print(\"Top 5 Customer Segment and Lifestyle in terms of product quantity purchased:\\n\",quant.head())"
   ]
  },
  {
   "cell_type": "markdown",
   "metadata": {},
   "source": [
    "My Insights:\n",
    "Key Indicators of loyalty include total sales, top products by customer segments, money spent per transaction (on average) AKA Average Basket Size, Most frequent Customer Segment in the most visited stores.\n",
    "\n",
    "My Hypothesis:\n",
    "1) Older Families in the budget segment have the higher contribution to total sales due to their relatively higher family members and tendency to save money. This is likely why the goods they have purchased are in higher quantity but not higher diversity.\n",
    "2) Top 3 products in sale: Dorito Corn Chp Supreme 380g, Smiths Crnkle Chip  Orgnl Big Bag 380g, Smiths Crinkle Chips Salt & Vinegar 330g are all bigger quantities of popular chips brands. Their larger quantity and positive customer perception are likely factors behind their large sales\n",
    "3) The average basket size of MIDAGE SINGLES/COUPLES in mainstream segment, YOUNG SINGLES/COUPLES in mainstream segment, and RETIREES in the premium segment is higher than the rest. This indicates that customers that belong to these lifestyles and segments have higher transactions per visit. However, as seen in insight 7, these lifestyles don't show up in high frequencies at the most visited stores.\n",
    "4) The Most frequent customers at the top 3 most visited stores belong to OLDER SINGLES/COUPLES and particularly the Mainstream segment. This information coupled with the top selling products in each customer segment should give us confidence to increase the stock of or run discount campaigns on the products preferred by OLDER SINGLES/COUPLES in these particular stores."
   ]
  }
 ],
 "metadata": {
  "kernelspec": {
   "display_name": "Python 3",
   "language": "python",
   "name": "python3"
  },
  "language_info": {
   "codemirror_mode": {
    "name": "ipython",
    "version": 3
   },
   "file_extension": ".py",
   "mimetype": "text/x-python",
   "name": "python",
   "nbconvert_exporter": "python",
   "pygments_lexer": "ipython3",
   "version": "3.11.0"
  }
 },
 "nbformat": 4,
 "nbformat_minor": 2
}
